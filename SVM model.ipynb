{
 "cells": [
  {
   "cell_type": "code",
   "execution_count": 1,
   "id": "46bf3810",
   "metadata": {},
   "outputs": [
    {
     "name": "stdout",
     "output_type": "stream",
     "text": [
      "   age  sex   bmi  children smoker     region  expenses\n",
      "0   19    0  27.9         0    yes  southwest  16884.92\n",
      "1   18    1  33.8         1     no  southeast   1725.55\n",
      "2   28    1  33.0         3     no  southeast   4449.46\n",
      "3   33    1  22.7         0     no  northwest  21984.47\n",
      "4   32    1  28.9         0     no  northwest   3866.86\n",
      "Enter age : 23\n",
      "Enter sex M=1 / F=0 : 1\n",
      "Enter bmi : 36\n",
      "The predicted value of expenses is: 3052.5004628084043\n",
      "R2 Score: -0.11241384835147006\n"
     ]
    }
   ],
   "source": [
    "import pandas as pd\n",
    "from sklearn.model_selection import train_test_split\n",
    "from sklearn.svm import SVR\n",
    "from sklearn.metrics import r2_score\n",
    "\n",
    "data = pd.read_csv('C:/Users/KARTHIK/Downloads/h/insurance.csv')\n",
    "data['sex'] = data['sex'].astype('category')\n",
    "data['sex'] = data['sex'].cat.codes\n",
    "print(data.head())\n",
    "X = data[['age', 'sex', 'bmi']]\n",
    "y = data['expenses']\n",
    "\n",
    "X_train, X_test, y_train, y_test = train_test_split(X, y, test_size=0.3, random_state=42)\n",
    "svm_model = SVR(kernel='linear')\n",
    "svm_model.fit(X_train, y_train)\n",
    "y_pred = svm_model.predict(X_test)\n",
    "accuracy = r2_score(y_test, y_pred)\n",
    "\n",
    "x1 = float(input('Enter age : '))\n",
    "x2 = float(input('Enter sex M=1 / F=0 : '))\n",
    "x3 = float(input('Enter bmi : '))\n",
    "user_input = pd.DataFrame({'age': [x1], 'sex': [x2], 'bmi': [x3]})\n",
    "prediction = svm_model.predict(user_input)\n",
    "print('The predicted value of expenses is:', prediction[0])\n",
    "\n",
    "print(\"R2 Score:\", accuracy)\n",
    "\n"
   ]
  },
  {
   "cell_type": "code",
   "execution_count": null,
   "id": "e3035331",
   "metadata": {},
   "outputs": [],
   "source": []
  },
  {
   "cell_type": "code",
   "execution_count": null,
   "id": "c860007e",
   "metadata": {},
   "outputs": [],
   "source": []
  },
  {
   "cell_type": "code",
   "execution_count": null,
   "id": "3c1605dd",
   "metadata": {},
   "outputs": [],
   "source": []
  }
 ],
 "metadata": {
  "kernelspec": {
   "display_name": "Python 3 (ipykernel)",
   "language": "python",
   "name": "python3"
  },
  "language_info": {
   "codemirror_mode": {
    "name": "ipython",
    "version": 3
   },
   "file_extension": ".py",
   "mimetype": "text/x-python",
   "name": "python",
   "nbconvert_exporter": "python",
   "pygments_lexer": "ipython3",
   "version": "3.10.9"
  }
 },
 "nbformat": 4,
 "nbformat_minor": 5
}
