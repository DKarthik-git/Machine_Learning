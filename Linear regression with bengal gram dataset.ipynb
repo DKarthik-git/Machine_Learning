{
 "cells": [
  {
   "cell_type": "code",
   "execution_count": 6,
   "id": "b2e41de1",
   "metadata": {},
   "outputs": [
    {
     "name": "stdout",
     "output_type": "stream",
     "text": [
      "                 state       district      market              commodity  \\\n",
      "0  Andaman and Nicobar  South Andaman  Port Blair             Amaranthus   \n",
      "1  Andaman and Nicobar  South Andaman  Port Blair         Banana - Green   \n",
      "2  Andaman and Nicobar  South Andaman  Port Blair  Bhindi(Ladies Finger)   \n",
      "3  Andaman and Nicobar  South Andaman  Port Blair           Bitter gourd   \n",
      "4  Andaman and Nicobar  South Andaman  Port Blair           Black pepper   \n",
      "\n",
      "          variety  arrival_date  arrival_month  arrival_year  min_price  \\\n",
      "0      Amaranthus             3              4          2019       6000   \n",
      "1  Banana - Green             3              4          2019       4500   \n",
      "2          Bhindi             3              4          2019       6000   \n",
      "3           Other             3              4          2019       6000   \n",
      "4           Other             3              4          2019     110000   \n",
      "\n",
      "   max_price  modal_price  \n",
      "0       8000         7000  \n",
      "1       5500         5000  \n",
      "2       8000         7000  \n",
      "3       8000         7000  \n",
      "4     130000       120000  \n",
      "0.8880482546759778\n",
      "Minimum Price2000\n",
      "Maximum Price3000\n",
      "The predicted value of modal_price is: [3059.94143319]\n",
      "Median of price: 2500.0\n",
      "      min_price  max_price\n",
      "0          6000       8000\n",
      "1          4500       5500\n",
      "2          6000       8000\n",
      "3          6000       8000\n",
      "4        110000     130000\n",
      "...         ...        ...\n",
      "5623       3970       4310\n",
      "5624       3970       4310\n",
      "5625       3970       4310\n",
      "5626       3970       4310\n",
      "5627       3970       4310\n",
      "\n",
      "[5628 rows x 2 columns]\n"
     ]
    },
    {
     "data": {
      "image/png": "[encoded data removed]",
      "text/plain": [
       "<Figure size 360x360 with 1 Axes>"
      ]
     },
     "metadata": {
      "needs_background": "light"
     },
     "output_type": "display_data"
    },
    {
     "data": {
      "image/png": "[encoded data removed]",
      "text/plain": [
       "<Figure size 432x288 with 1 Axes>"
      ]
     },
     "metadata": {
      "needs_background": "light"
     },
     "output_type": "display_data"
    },
    {
     "name": "stdout",
     "output_type": "stream",
     "text": [
      "r2 score = 0.83\n"
     ]
    }
   ],
   "source": [
    "import numpy as np\n",
    "import pandas as pd\n",
    "import seaborn as sns\n",
    "import matplotlib.pyplot as plt\n",
    "from sklearn.model_selection import train_test_split\n",
    "from sklearn.linear_model import LinearRegression\n",
    "import sklearn.metrics as ms\n",
    "\n",
    "data=pd.read_csv('/home/saran.p@censanext.local/Downloads/bengalgram - Sheet1 (2).csv')\n",
    "print(data.head())\n",
    "#print(data.info())\n",
    "#print(data.isnull())\n",
    "\n",
    "x = data[['min_price', 'max_price']]\n",
    "y = data[['modal_price']]\n",
    "x_train, x_test, y_train, y_test = train_test_split(x,y,test_size=0.3)\n",
    "\n",
    "regr=LinearRegression()\n",
    "regr.fit(x_train,y_train)\n",
    "y_pred=regr.predict(x_test)\n",
    "print(regr.score(x_train,y_train))\n",
    "\n",
    "\n",
    "x2=float(input('Minimum Price'))\n",
    "x3=float(input('Maximum Price'))\n",
    "user_input = pd.DataFrame({'min_price': [x2], 'max_price': [x3]})\n",
    "prediction = regr.predict(user_input)\n",
    "print('The predicted value of modal_price is:', prediction[0])\n",
    "\n",
    "combined = np.concatenate([[ x2, x3]])\n",
    "median= np.median(combined)\n",
    "print(\"Median of price:\", median)\n",
    "\n",
    "print(data[['min_price', 'max_price']])\n",
    "sns.lmplot(x=\"min_price\",y=\"max_price\",data=data)\n",
    "plt.show()\n",
    "\n",
    "#plt.hist()\n",
    "plt.scatter(data['modal_price'],data['arrival_date'])\n",
    "plt.title('scatter')\n",
    "plt.ylabel('arrival_date')\n",
    "plt.xlabel('modal_price')\n",
    "#plt.colorbar()\n",
    "plt.show()\n",
    "print(\"r2 score =\",round(ms.r2_score(y_test,y_pred),2))"
   ]
  },
  {
   "cell_type": "code",
   "execution_count": null,
   "id": "458a1c5f",
   "metadata": {},
   "outputs": [],
   "source": []
  },
  {
   "cell_type": "code",
   "execution_count": null,
   "id": "0ca53405",
   "metadata": {},
   "outputs": [],
   "source": []
  },
  {
   "cell_type": "code",
   "execution_count": null,
   "id": "6bd62d0a",
   "metadata": {},
   "outputs": [],
   "source": []
  }
 ],
 "metadata": {
  "kernelspec": {
   "display_name": "Python 3 (ipykernel)",
   "language": "python",
   "name": "python3"
  },
  "language_info": {
   "codemirror_mode": {
    "name": "ipython",
    "version": 3
   },
   "file_extension": ".py",
   "mimetype": "text/x-python",
   "name": "python",
   "nbconvert_exporter": "python",
   "pygments_lexer": "ipython3",
   "version": "3.9.12"
  }
 },
 "nbformat": 4,
 "nbformat_minor": 5
}
