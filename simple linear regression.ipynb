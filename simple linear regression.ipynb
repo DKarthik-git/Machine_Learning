{
 "cells": [
  {
   "cell_type": "code",
   "execution_count": null,
   "id": "07a35cf4",
   "metadata": {},
   "outputs": [
    {
     "name": "stdout",
     "output_type": "stream",
     "text": [
      "   total_bill   tip     sex smoker  day    time  size\n",
      "0       16.99  1.01  Female     No  Sun  Dinner     2\n",
      "1       10.34  1.66    Male     No  Sun  Dinner     3\n",
      "2       21.01  3.50    Male     No  Sun  Dinner     3\n",
      "3       23.68  3.31    Male     No  Sun  Dinner     2\n",
      "4       24.59  3.61  Female     No  Sun  Dinner     4\n",
      "   total_bill   tip  sex smoker  day    time  size\n",
      "0       16.99  1.01    1     No  Sun  Dinner     2\n",
      "1       10.34  1.66    0     No  Sun  Dinner     3\n",
      "2       21.01  3.50    0     No  Sun  Dinner     3\n",
      "3       23.68  3.31    0     No  Sun  Dinner     2\n",
      "4       24.59  3.61    1     No  Sun  Dinner     4\n",
      "0.4569366925750904\n"
     ]
    }
   ],
   "source": [
    "import numpy as np\n",
    "import pandas as pd\n",
    "import seaborn as sns\n",
    "import matplotlib.pyplot as plt\n",
    "from sklearn.model_selection import train_test_split\n",
    "from sklearn.linear_model import LinearRegression\n",
    "import sklearn.metrics as ms\n",
    "\n",
    "data=sns.load_dataset(\"tips\")\n",
    "print(data.head())\n",
    "\n",
    "data['sex']=data['sex'].astype('category')\n",
    "data['sex']=data['sex'].cat.codes\n",
    "print(data.head())\n",
    "\n",
    "x=np.array(data['total_bill']).reshape(-1,1)\n",
    "y=np.array(data['tip']).reshape(-1,1)\n",
    "x_train, x_test, y_train, y_test = train_test_split(x,y,test_size=0.3)\n",
    "\n",
    "regr=LinearRegression()\n",
    "regr.fit(x_train,y_train)\n",
    "y_pred=regr.predict(x_test)\n",
    "print(regr.score(x_train,y_train))\n",
    "\n",
    "x=float(input('Total_bill ='))\n",
    "y=regr.predict([[x]])\n",
    "print('tip',y)\n",
    "\n",
    "print(data[['total_bill','tip']])\n",
    "sns.lmplot(x=\"total_bill\",y=\"tip\",data=data)\n",
    "plt.show()\n",
    "\n",
    "plt.scatter(x_test,y_test,color='b')\n",
    "plt.plot(x_test,y_pred,color='g')\n",
    "plt.show()\n",
    "\n",
    "print(\"r2 score =\",round(ms.r2_score(y_test,y_pred),2))"
   ]
  },
  {
   "cell_type": "code",
   "execution_count": null,
   "id": "6ce226e8",
   "metadata": {},
   "outputs": [],
   "source": []
  },
  {
   "cell_type": "code",
   "execution_count": null,
   "id": "297288a7",
   "metadata": {},
   "outputs": [],
   "source": []
  }
 ],
 "metadata": {
  "kernelspec": {
   "display_name": "Python 3 (ipykernel)",
   "language": "python",
   "name": "python3"
  },
  "language_info": {
   "codemirror_mode": {
    "name": "ipython",
    "version": 3
   },
   "file_extension": ".py",
   "mimetype": "text/x-python",
   "name": "python",
   "nbconvert_exporter": "python",
   "pygments_lexer": "ipython3",
   "version": "3.9.12"
  }
 },
 "nbformat": 4,
 "nbformat_minor": 5
}
